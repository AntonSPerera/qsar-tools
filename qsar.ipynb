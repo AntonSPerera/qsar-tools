{
 "cells": [
  {
   "cell_type": "code",
   "execution_count": 1,
   "metadata": {
    "collapsed": false
   },
   "outputs": [],
   "source": [
    "import rdkit\n",
    "from rdkit.Chem import AllChem as Chem\n",
    "import numpy as np\n",
    "import matplotlib.pylab as plt\n",
    "%matplotlib inline"
   ]
  },
  {
   "cell_type": "code",
   "execution_count": 2,
   "metadata": {
    "collapsed": false
   },
   "outputs": [],
   "source": [
    "with open('data/alpha.smi') as f:\n",
    "    for line in f:\n",
    "        if line.startswith('#') or len(line.strip()) == 0:\n",
    "            continue"
   ]
  },
  {
   "cell_type": "code",
   "execution_count": 3,
   "metadata": {
    "collapsed": false
   },
   "outputs": [
    {
     "data": {
      "text/plain": [
       "'OCCCc1cc2c(cc1O)CC[C@@H]1[C@@H]2CC[C@]2([C@H]1CC[C@@H]2O)C\\t68712\\t8.28'"
      ]
     },
     "execution_count": 3,
     "metadata": {},
     "output_type": "execute_result"
    }
   ],
   "source": [
    "line.strip()"
   ]
  },
  {
   "cell_type": "code",
   "execution_count": 5,
   "metadata": {
    "collapsed": true
   },
   "outputs": [],
   "source": [
    "mol = Chem.MolFromSmiles(line.split()[0])"
   ]
  },
  {
   "cell_type": "code",
   "execution_count": 6,
   "metadata": {
    "collapsed": false
   },
   "outputs": [
    {
     "data": {
      "text/plain": [
       "<rdkit.Chem.rdchem.Mol at 0x7f4f4d4ab6e0>"
      ]
     },
     "execution_count": 6,
     "metadata": {},
     "output_type": "execute_result"
    }
   ],
   "source": [
    "mol"
   ]
  },
  {
   "cell_type": "code",
   "execution_count": 7,
   "metadata": {
    "collapsed": false
   },
   "outputs": [],
   "source": [
    "from rdkit.Chem.Fingerprints import FingerprintMols"
   ]
  },
  {
   "cell_type": "code",
   "execution_count": 8,
   "metadata": {
    "collapsed": false
   },
   "outputs": [],
   "source": [
    "paths = Chem.FindAllSubgraphsOfLengthMToN(mol,1,7,useHs=False)"
   ]
  },
  {
   "cell_type": "code",
   "execution_count": 9,
   "metadata": {
    "collapsed": false
   },
   "outputs": [],
   "source": [
    "x = Chem.MolFragmentToSmiles(mol, [0,1,6])"
   ]
  },
  {
   "cell_type": "code",
   "execution_count": 59,
   "metadata": {
    "collapsed": false
   },
   "outputs": [
    {
     "ename": "TypeError",
     "evalue": "unsupported operand type(s) for +: 'int' and 'list'",
     "output_type": "error",
     "traceback": [
      "\u001b[1;31m---------------------------------------------------------------------------\u001b[0m",
      "\u001b[1;31mTypeError\u001b[0m                                 Traceback (most recent call last)",
      "\u001b[1;32m<ipython-input-59-022a453367b2>\u001b[0m in \u001b[0;36m<module>\u001b[1;34m()\u001b[0m\n\u001b[1;32m----> 1\u001b[1;33m \u001b[0msum\u001b[0m\u001b[1;33m(\u001b[0m\u001b[0mpaths\u001b[0m\u001b[1;33m)\u001b[0m\u001b[1;33m\u001b[0m\u001b[0m\n\u001b[0m",
      "\u001b[1;31mTypeError\u001b[0m: unsupported operand type(s) for +: 'int' and 'list'"
     ]
    }
   ],
   "source": [
    "sum(paths)"
   ]
  },
  {
   "cell_type": "code",
   "execution_count": 60,
   "metadata": {
    "collapsed": false
   },
   "outputs": [
    {
     "data": {
      "text/plain": [
       "24"
      ]
     },
     "execution_count": 60,
     "metadata": {},
     "output_type": "execute_result"
    }
   ],
   "source": [
    "mol.GetNumAtoms()"
   ]
  },
  {
   "cell_type": "code",
   "execution_count": 61,
   "metadata": {
    "collapsed": false
   },
   "outputs": [
    {
     "data": {
      "text/plain": [
       "(26,)"
      ]
     },
     "execution_count": 61,
     "metadata": {},
     "output_type": "execute_result"
    }
   ],
   "source": [
    "paths[0][-1]"
   ]
  },
  {
   "cell_type": "code",
   "execution_count": 79,
   "metadata": {
    "collapsed": false
   },
   "outputs": [],
   "source": [
    "paths = Chem.FindAllPathsOfLengthN(mol, 7, useBonds=False)"
   ]
  },
  {
   "cell_type": "code",
   "execution_count": 80,
   "metadata": {
    "collapsed": false
   },
   "outputs": [
    {
     "data": {
      "text/plain": [
       "142"
      ]
     },
     "execution_count": 80,
     "metadata": {},
     "output_type": "execute_result"
    }
   ],
   "source": [
    "len(paths)"
   ]
  },
  {
   "cell_type": "code",
   "execution_count": 81,
   "metadata": {
    "collapsed": false
   },
   "outputs": [
    {
     "data": {
      "text/plain": [
       "[23, 17, 18, 19, 20, 21, 17]"
      ]
     },
     "execution_count": 81,
     "metadata": {},
     "output_type": "execute_result"
    }
   ],
   "source": [
    "list(paths[-1])"
   ]
  },
  {
   "cell_type": "code",
   "execution_count": 111,
   "metadata": {
    "collapsed": false
   },
   "outputs": [],
   "source": [
    "fp = Chem.RDKFingerprint(mol,fpSize=2048)"
   ]
  },
  {
   "cell_type": "code",
   "execution_count": 124,
   "metadata": {
    "collapsed": false
   },
   "outputs": [],
   "source": [
    "from rdkit.Chem import MACCSkeys"
   ]
  },
  {
   "cell_type": "code",
   "execution_count": 113,
   "metadata": {
    "collapsed": true
   },
   "outputs": [],
   "source": [
    "fp = Chem.GetMorganFingerprint(mol,2)"
   ]
  },
  {
   "cell_type": "code",
   "execution_count": 119,
   "metadata": {
    "collapsed": false
   },
   "outputs": [],
   "source": [
    "r = 2\n",
    "fp = Chem.GetMorganFingerprintAsBitVect(mol,r,nBits=2048)\n"
   ]
  },
  {
   "cell_type": "code",
   "execution_count": 126,
   "metadata": {
    "collapsed": false
   },
   "outputs": [],
   "source": [
    "fp = MACCSkeys.GenMACCSKeys(mol)"
   ]
  },
  {
   "cell_type": "code",
   "execution_count": 127,
   "metadata": {
    "collapsed": false
   },
   "outputs": [
    {
     "data": {
      "text/plain": [
       "'00000000000000000000000000000000000000000000000000000000000000000010000000000000001000000011000010000100110011001101101000000001110110000001000111110010110101011011110'"
      ]
     },
     "execution_count": 127,
     "metadata": {},
     "output_type": "execute_result"
    }
   ],
   "source": [
    "fp.ToBitString()"
   ]
  },
  {
   "cell_type": "code",
   "execution_count": 128,
   "metadata": {
    "collapsed": false
   },
   "outputs": [
    {
     "name": "stdout",
     "output_type": "stream",
     "text": [
      "Help on built-in function GetMACCSKeysFingerprint in module rdkit.Chem.rdMolDescriptors:\n",
      "\n",
      "GetMACCSKeysFingerprint(...)\n",
      "    GetMACCSKeysFingerprint( (Mol)mol) -> ExplicitBitVect :\n",
      "        Returns the MACCS keys for a molecule as an ExplicitBitVect\n",
      "    \n",
      "        C++ signature :\n",
      "            ExplicitBitVect* GetMACCSKeysFingerprint(RDKit::ROMol)\n",
      "\n"
     ]
    }
   ],
   "source": [
    "help(MACCSkeys.GenMACCSKeys)"
   ]
  },
  {
   "cell_type": "code",
   "execution_count": 4,
   "metadata": {
    "collapsed": false
   },
   "outputs": [],
   "source": [
    "import pandas as pd"
   ]
  },
  {
   "cell_type": "code",
   "execution_count": 5,
   "metadata": {
    "collapsed": false
   },
   "outputs": [],
   "source": [
    "data = pd.read_csv('data/alpha_rdkit_fp.gz',compression='gzip',header=None,delim_whitespace=True)"
   ]
  },
  {
   "cell_type": "code",
   "execution_count": 6,
   "metadata": {
    "collapsed": false
   },
   "outputs": [],
   "source": [
    "y = np.array(data.iloc[:,1])\n",
    "x = np.array(data.iloc[:,2:],dtype=np.float)"
   ]
  },
  {
   "cell_type": "code",
   "execution_count": 7,
   "metadata": {
    "collapsed": false
   },
   "outputs": [
    {
     "data": {
      "text/plain": [
       "(3888, 2048)"
      ]
     },
     "execution_count": 7,
     "metadata": {},
     "output_type": "execute_result"
    }
   ],
   "source": [
    "x.shape"
   ]
  },
  {
   "cell_type": "code",
   "execution_count": 8,
   "metadata": {
    "collapsed": true
   },
   "outputs": [],
   "source": [
    "from sklearn.linear_model import *"
   ]
  },
  {
   "cell_type": "code",
   "execution_count": 41,
   "metadata": {
    "collapsed": true
   },
   "outputs": [],
   "source": [
    "lars = LarsCV()"
   ]
  },
  {
   "cell_type": "code",
   "execution_count": 42,
   "metadata": {
    "collapsed": true
   },
   "outputs": [],
   "source": [
    "lasso = LassoCV()"
   ]
  },
  {
   "cell_type": "code",
   "execution_count": 49,
   "metadata": {
    "collapsed": false
   },
   "outputs": [
    {
     "data": {
      "text/plain": [
       "LassoCV(alphas=None, copy_X=True, cv=None, eps=0.001, fit_intercept=True,\n",
       "    max_iter=1000, n_alphas=100, normalize=False, precompute='auto',\n",
       "    tol=0.0001, verbose=False)"
      ]
     },
     "execution_count": 49,
     "metadata": {},
     "output_type": "execute_result"
    }
   ],
   "source": [
    "lasso.fit(x,y)"
   ]
  },
  {
   "cell_type": "code",
   "execution_count": 54,
   "metadata": {
    "collapsed": false
   },
   "outputs": [
    {
     "data": {
      "text/plain": [
       "42"
      ]
     },
     "execution_count": 54,
     "metadata": {},
     "output_type": "execute_result"
    }
   ],
   "source": [
    "np.count_nonzero(lasso.coef_)"
   ]
  },
  {
   "cell_type": "code",
   "execution_count": 55,
   "metadata": {
    "collapsed": false
   },
   "outputs": [
    {
     "data": {
      "text/plain": [
       "0.85141299419897465"
      ]
     },
     "execution_count": 55,
     "metadata": {},
     "output_type": "execute_result"
    }
   ],
   "source": [
    "lasso.score(x,y)"
   ]
  },
  {
   "cell_type": "code",
   "execution_count": 58,
   "metadata": {
    "collapsed": false
   },
   "outputs": [],
   "source": [
    "p = lasso.predict(x)"
   ]
  },
  {
   "cell_type": "code",
   "execution_count": 82,
   "metadata": {
    "collapsed": false
   },
   "outputs": [
    {
     "data": {
      "text/plain": [
       "42"
      ]
     },
     "execution_count": 82,
     "metadata": {},
     "output_type": "execute_result"
    }
   ],
   "source": [
    "np.count_nonzero(lasso.coef_)"
   ]
  },
  {
   "cell_type": "code",
   "execution_count": 85,
   "metadata": {
    "collapsed": false,
    "scrolled": true
   },
   "outputs": [
    {
     "data": {
      "text/plain": [
       "LarsCV(copy_X=True, cv=None, eps=2.2204460492503131e-16, fit_intercept=True,\n",
       "    max_iter=500, max_n_alphas=1000, n_jobs=1, normalize=True,\n",
       "    precompute='auto', verbose=False)"
      ]
     },
     "execution_count": 85,
     "metadata": {},
     "output_type": "execute_result"
    }
   ],
   "source": [
    "lars.fit(x.astype(np.float64),y)"
   ]
  },
  {
   "cell_type": "code",
   "execution_count": 88,
   "metadata": {
    "collapsed": false
   },
   "outputs": [
    {
     "data": {
      "text/plain": [
       "0.25292941222000931"
      ]
     },
     "execution_count": 88,
     "metadata": {},
     "output_type": "execute_result"
    }
   ],
   "source": [
    "lars.score(x,y)"
   ]
  },
  {
   "cell_type": "code",
   "execution_count": 89,
   "metadata": {
    "collapsed": false
   },
   "outputs": [
    {
     "data": {
      "text/plain": [
       "7"
      ]
     },
     "execution_count": 89,
     "metadata": {},
     "output_type": "execute_result"
    }
   ],
   "source": [
    "np.count_nonzero(lars.coef_)"
   ]
  },
  {
   "cell_type": "code",
   "execution_count": 90,
   "metadata": {
    "collapsed": false
   },
   "outputs": [],
   "source": [
    "ll = LassoLarsCV()"
   ]
  },
  {
   "cell_type": "code",
   "execution_count": 91,
   "metadata": {
    "collapsed": false
   },
   "outputs": [
    {
     "name": "stderr",
     "output_type": "stream",
     "text": [
      "/usr/lib/python2.7/dist-packages/sklearn/linear_model/least_angle.py:251: UserWarning: Regressors in active set degenerate. Dropping a regressor, after 328 iterations, i.e. alpha=2.023e-15, with an active set of 66 regressors, and the smallest cholesky pivot element being 5.960e-08\n",
      "  % (n_iter, alpha, n_active, diag))\n",
      "/usr/lib/python2.7/dist-packages/sklearn/linear_model/least_angle.py:251: UserWarning: Regressors in active set degenerate. Dropping a regressor, after 331 iterations, i.e. alpha=1.911e-15, with an active set of 67 regressors, and the smallest cholesky pivot element being 2.581e-08\n",
      "  % (n_iter, alpha, n_active, diag))\n",
      "/usr/lib/python2.7/dist-packages/sklearn/linear_model/least_angle.py:251: UserWarning: Regressors in active set degenerate. Dropping a regressor, after 332 iterations, i.e. alpha=1.889e-15, with an active set of 68 regressors, and the smallest cholesky pivot element being 8.025e-08\n",
      "  % (n_iter, alpha, n_active, diag))\n",
      "/usr/lib/python2.7/dist-packages/sklearn/linear_model/least_angle.py:275: UserWarning: Early stopping the lars path, as the residues are small and the current value of alpha is no longer well controlled. 339 iterations, alpha=1.647e-15, previous alpha=1.625e-15, with an active set of 70 regressors.\n",
      "  % (n_iter, alpha, prev_alpha, n_active))\n",
      "/usr/lib/python2.7/dist-packages/sklearn/linear_model/least_angle.py:275: UserWarning: Early stopping the lars path, as the residues are small and the current value of alpha is no longer well controlled. 368 iterations, alpha=1.810e-14, previous alpha=1.802e-14, with an active set of 65 regressors.\n",
      "  % (n_iter, alpha, prev_alpha, n_active))\n",
      "/usr/lib/python2.7/dist-packages/sklearn/linear_model/least_angle.py:251: UserWarning: Regressors in active set degenerate. Dropping a regressor, after 314 iterations, i.e. alpha=2.024e-14, with an active set of 66 regressors, and the smallest cholesky pivot element being 7.068e-08\n",
      "  % (n_iter, alpha, n_active, diag))\n",
      "/usr/lib/python2.7/dist-packages/sklearn/linear_model/least_angle.py:251: UserWarning: Regressors in active set degenerate. Dropping a regressor, after 314 iterations, i.e. alpha=2.017e-14, with an active set of 66 regressors, and the smallest cholesky pivot element being 7.525e-08\n",
      "  % (n_iter, alpha, n_active, diag))\n",
      "/usr/lib/python2.7/dist-packages/sklearn/linear_model/least_angle.py:275: UserWarning: Early stopping the lars path, as the residues are small and the current value of alpha is no longer well controlled. 315 iterations, alpha=2.017e-14, previous alpha=2.016e-14, with an active set of 66 regressors.\n",
      "  % (n_iter, alpha, prev_alpha, n_active))\n"
     ]
    },
    {
     "data": {
      "text/plain": [
       "LassoLarsCV(copy_X=True, cv=None, eps=2.2204460492503131e-16,\n",
       "      fit_intercept=True, max_iter=500, max_n_alphas=1000, n_jobs=1,\n",
       "      normalize=True, precompute='auto', verbose=False)"
      ]
     },
     "execution_count": 91,
     "metadata": {},
     "output_type": "execute_result"
    }
   ],
   "source": [
    "ll.fit(x,y)"
   ]
  },
  {
   "cell_type": "code",
   "execution_count": 92,
   "metadata": {
    "collapsed": false
   },
   "outputs": [
    {
     "data": {
      "text/plain": [
       "0.7607048705705699"
      ]
     },
     "execution_count": 92,
     "metadata": {},
     "output_type": "execute_result"
    }
   ],
   "source": [
    "ll.score(x,y)"
   ]
  },
  {
   "cell_type": "code",
   "execution_count": 93,
   "metadata": {
    "collapsed": false
   },
   "outputs": [
    {
     "data": {
      "text/plain": [
       "33"
      ]
     },
     "execution_count": 93,
     "metadata": {},
     "output_type": "execute_result"
    }
   ],
   "source": [
    "np.count_nonzero(ll.coef_)"
   ]
  },
  {
   "cell_type": "code",
   "execution_count": 94,
   "metadata": {
    "collapsed": true
   },
   "outputs": [],
   "source": [
    "ll2 = LassoLarsIC()"
   ]
  },
  {
   "cell_type": "code",
   "execution_count": 95,
   "metadata": {
    "collapsed": false
   },
   "outputs": [
    {
     "name": "stderr",
     "output_type": "stream",
     "text": [
      "/usr/lib/python2.7/dist-packages/sklearn/linear_model/least_angle.py:251: UserWarning: Regressors in active set degenerate. Dropping a regressor, after 488 iterations, i.e. alpha=7.982e-14, with an active set of 98 regressors, and the smallest cholesky pivot element being 9.714e-08\n",
      "  % (n_iter, alpha, n_active, diag))\n",
      "/usr/lib/python2.7/dist-packages/sklearn/linear_model/least_angle.py:251: UserWarning: Regressors in active set degenerate. Dropping a regressor, after 488 iterations, i.e. alpha=7.976e-14, with an active set of 98 regressors, and the smallest cholesky pivot element being 9.714e-08\n",
      "  % (n_iter, alpha, n_active, diag))\n",
      "/usr/lib/python2.7/dist-packages/sklearn/linear_model/least_angle.py:251: UserWarning: Regressors in active set degenerate. Dropping a regressor, after 488 iterations, i.e. alpha=7.966e-14, with an active set of 98 regressors, and the smallest cholesky pivot element being 1.490e-08\n",
      "  % (n_iter, alpha, n_active, diag))\n",
      "/usr/lib/python2.7/dist-packages/sklearn/linear_model/least_angle.py:251: UserWarning: Regressors in active set degenerate. Dropping a regressor, after 493 iterations, i.e. alpha=3.988e-14, with an active set of 99 regressors, and the smallest cholesky pivot element being 3.332e-08\n",
      "  % (n_iter, alpha, n_active, diag))\n",
      "/usr/lib/python2.7/dist-packages/sklearn/linear_model/least_angle.py:275: UserWarning: Early stopping the lars path, as the residues are small and the current value of alpha is no longer well controlled. 494 iterations, alpha=3.990e-14, previous alpha=3.985e-14, with an active set of 99 regressors.\n",
      "  % (n_iter, alpha, prev_alpha, n_active))\n"
     ]
    },
    {
     "data": {
      "text/plain": [
       "0.0"
      ]
     },
     "execution_count": 95,
     "metadata": {},
     "output_type": "execute_result"
    }
   ],
   "source": [
    "ll2.fit(x,y)\n",
    "ll2.score(x,y)"
   ]
  },
  {
   "cell_type": "code",
   "execution_count": 96,
   "metadata": {
    "collapsed": false
   },
   "outputs": [
    {
     "data": {
      "text/plain": [
       "0"
      ]
     },
     "execution_count": 96,
     "metadata": {},
     "output_type": "execute_result"
    }
   ],
   "source": [
    "np.count_nonzero(ll2.coef_)"
   ]
  },
  {
   "cell_type": "code",
   "execution_count": 97,
   "metadata": {
    "collapsed": false
   },
   "outputs": [
    {
     "data": {
      "text/plain": [
       "0.85899530788623402"
      ]
     },
     "execution_count": 97,
     "metadata": {},
     "output_type": "execute_result"
    }
   ],
   "source": [
    "el = ElasticNetCV()\n",
    "el.fit(x,y)\n",
    "el.score(x,y)"
   ]
  },
  {
   "cell_type": "code",
   "execution_count": 98,
   "metadata": {
    "collapsed": false
   },
   "outputs": [
    {
     "data": {
      "text/plain": [
       "80"
      ]
     },
     "execution_count": 98,
     "metadata": {},
     "output_type": "execute_result"
    }
   ],
   "source": [
    "np.count_nonzero(el.coef_)"
   ]
  },
  {
   "cell_type": "code",
   "execution_count": 14,
   "metadata": {
    "collapsed": true
   },
   "outputs": [],
   "source": [
    "from sklearn.cross_validation import KFold\n",
    "import warnings\n",
    "warnings.filterwarnings(\"ignore\", category=DeprecationWarning) \n",
    "warnings.filterwarnings(\"ignore\", category=UserWarning) "
   ]
  },
  {
   "cell_type": "code",
   "execution_count": 64,
   "metadata": {
    "collapsed": true
   },
   "outputs": [],
   "source": [
    "method = Lasso()"
   ]
  },
  {
   "cell_type": "code",
   "execution_count": 118,
   "metadata": {
    "collapsed": false
   },
   "outputs": [
    {
     "name": "stdout",
     "output_type": "stream",
     "text": [
      ". . . . . . . . . . . . . . . . . . . . . . . . . . . . . . . . . . . . . . . . . . . . . . . . . . . . . . . . . . . . . . . . . . . . . . . . . . . . . . . . . . . . . . . . . . . . . . . . . . . . . . . . . . . . . . . . . . . . . . . . . . . . . . . . . . . . . . . . . . . . . . . . . . . . . . . . . . . . . . . . . . . . . . . . . . . . . . . . . . . . . . . . . . . . . . . . . . . . . . . . . . . . . . . . . . . . . . . . . . . . . . . . . . . . . . . . . . . . . . . . . . . . . . . . . . . . . . . . . . . . . . . . . . . . . . . . . . . . . . . . . . . . . . . . . . . . . . . . . . . . . . . . . . . . . . . . . . . . . . . . . . . . . . . . . . . . . . . . . . . . . . . . . . . . . . . . . . . . . . . . . . . . . . . . . . . . . . . . . . . . . . . . . . . . . . . . . . . . . . . .\n"
     ]
    }
   ],
   "source": [
    "kf = KFold(len(y), n_folds=4,shuffle=True)\n",
    "retfit = []\n",
    "retunfit = []\n",
    "for train,test in kf:\n",
    "    xtrain = x[train]\n",
    "    ytrain = y[train]\n",
    "    xtest = x[test]\n",
    "    ytest = y[test]\n",
    "    alphas,_,coefs = method.path(xtrain,ytrain)\n",
    "    fit = []\n",
    "    unfit = []\n",
    "    for a in alphas:\n",
    "        l = Lasso(alpha=a)\n",
    "        l.fit(xtrain,ytrain)\n",
    "        fit.append(l.score(xtrain,ytrain))\n",
    "        unfit.append(l.score(xtest,ytest))\n",
    "        print \".\",\n",
    "    retfit.append(fit)\n",
    "    retunfit.append(unfit)\n",
    "   "
   ]
  },
  {
   "cell_type": "code",
   "execution_count": 119,
   "metadata": {
    "collapsed": false
   },
   "outputs": [
    {
     "name": "stdout",
     "output_type": "stream",
     "text": [
      "0.472379141427\n"
     ]
    },
    {
     "data": {
      "image/png": "[encoded data removed]",
      "text/plain": [
       "<matplotlib.figure.Figure at 0x7f311005fc10>"
      ]
     },
     "metadata": {},
     "output_type": "display_data"
    }
   ],
   "source": [
    "plt.plot(np.mean(np.array(retfit),axis=0))\n",
    "unfit = np.mean(np.array(retunfit),axis=0)\n",
    "unfitstd = np.std(np.array(retunfit),axis=0)\n",
    "plt.errorbar(range(len(unfit)),unfit,yerr=unfitstd)\n",
    "plt.ylim(0,1)\n",
    "print np.max(unfit)"
   ]
  },
  {
   "cell_type": "code",
   "execution_count": 140,
   "metadata": {
    "collapsed": false
   },
   "outputs": [
    {
     "data": {
      "text/plain": [
       "LassoCV(alphas=None, copy_X=True, cv=5, eps=0.001, fit_intercept=True,\n",
       "    max_iter=1000, n_alphas=100, n_jobs=-1, normalize=False,\n",
       "    positive=False, precompute='auto', random_state=None,\n",
       "    selection='cyclic', tol=0.0001, verbose=False)"
      ]
     },
     "execution_count": 140,
     "metadata": {},
     "output_type": "execute_result"
    }
   ],
   "source": [
    "k = 5\n",
    "method = LassoCV(cv=k,n_jobs=-1)\n",
    "method.fit(x,y)"
   ]
  },
  {
   "cell_type": "code",
   "execution_count": 152,
   "metadata": {
    "collapsed": false
   },
   "outputs": [
    {
     "name": "stdout",
     "output_type": "stream",
     "text": [
      "0.567799641502 0.478974604842 0.757449048516 0.695722735713\n",
      "0.563289307768 0.512580383199 0.754802923851 0.717743364407\n",
      "0.558691635222 0.526702076213 0.751769632178 0.728392811982\n",
      "0.57887103581 0.441322771894 0.764813363991 0.664954702151\n",
      "0.574935790462 0.475871876967 0.762467098698 0.69102794269\n"
     ]
    }
   ],
   "source": [
    "a = method.alpha_\n",
    "kf = KFold(len(y), n_folds=k,shuffle=True)\n",
    "retfit = []\n",
    "retunfit = []\n",
    "for train,test in kf:\n",
    "    xtrain = x[train]\n",
    "    ytrain = y[train]\n",
    "    xtest = x[test]\n",
    "    ytest = y[test]\n",
    "    l = Lasso(alpha=a)\n",
    "    l.fit(xtrain,ytrain)\n",
    "    p1 = l.predict(xtrain)\n",
    "    p2 = l.predict(xtest)\n",
    "    print l.score(xtrain,ytrain),l.score(xtest,ytest),np.corrcoef(p1,ytrain)[0,1],np.corrcoef(p2,ytest)[0,1]"
   ]
  },
  {
   "cell_type": "code",
   "execution_count": 144,
   "metadata": {
    "collapsed": false
   },
   "outputs": [
    {
     "data": {
      "text/plain": [
       "[<matplotlib.lines.Line2D at 0x7f3117789c50>,\n",
       " <matplotlib.lines.Line2D at 0x7f3117789ed0>,\n",
       " <matplotlib.lines.Line2D at 0x7f3110049150>,\n",
       " <matplotlib.lines.Line2D at 0x7f3110049310>,\n",
       " <matplotlib.lines.Line2D at 0x7f31100494d0>]"
      ]
     },
     "execution_count": 144,
     "metadata": {},
     "output_type": "execute_result"
    },
    {
     "data": {
      "image/png": "[encoded data removed]",
      "text/plain": [
       "<matplotlib.figure.Figure at 0x7f31103f1510>"
      ]
     },
     "metadata": {},
     "output_type": "display_data"
    }
   ],
   "source": [
    "lassomethod = method\n",
    "plt.plot(lassomethod.alphas_,lassomethod.mse_path_)"
   ]
  },
  {
   "cell_type": "code",
   "execution_count": 145,
   "metadata": {
    "collapsed": false
   },
   "outputs": [
    {
     "data": {
      "text/plain": [
       "268"
      ]
     },
     "execution_count": 145,
     "metadata": {},
     "output_type": "execute_result"
    }
   ],
   "source": [
    "np.count_nonzero(lassomethod.coef_)"
   ]
  },
  {
   "cell_type": "code",
   "execution_count": 151,
   "metadata": {
    "collapsed": false
   },
   "outputs": [
    {
     "data": {
      "text/plain": [
       "0.7510804587623211"
      ]
     },
     "execution_count": 151,
     "metadata": {},
     "output_type": "execute_result"
    }
   ],
   "source": [
    "p = lassomethod.predict(x)\n",
    "np.corrcoef(p,y)[0,1]"
   ]
  },
  {
   "cell_type": "code",
   "execution_count": 126,
   "metadata": {
    "collapsed": false
   },
   "outputs": [
    {
     "name": "stderr",
     "output_type": "stream",
     "text": [
      "/usr/local/lib/python2.7/dist-packages/sklearn/linear_model/least_angle.py:170: FutureWarning: elementwise comparison failed; returning scalar instead, but in the future will perform elementwise comparison\n",
      "  elif Gram == 'auto':\n"
     ]
    },
    {
     "data": {
      "text/plain": [
       "LarsCV(copy_X=True, cv=5, eps=2.2204460492503131e-16, fit_intercept=True,\n",
       "    max_iter=500, max_n_alphas=1000, n_jobs=-1, normalize=True,\n",
       "    precompute='auto', verbose=False)"
      ]
     },
     "execution_count": 126,
     "metadata": {},
     "output_type": "execute_result"
    }
   ],
   "source": [
    "k = 5\n",
    "method = LarsCV(cv=k,n_jobs=-1)\n",
    "method.fit(x,y)"
   ]
  },
  {
   "cell_type": "code",
   "execution_count": 129,
   "metadata": {
    "collapsed": false
   },
   "outputs": [
    {
     "name": "stdout",
     "output_type": "stream",
     "text": [
      "-2.87279293426 -8.24247405825\n",
      "-62.6776836451 -141.852831333\n"
     ]
    },
    {
     "ename": "KeyboardInterrupt",
     "evalue": "",
     "output_type": "error",
     "traceback": [
      "\u001b[1;31m---------------------------------------------------------------------------\u001b[0m",
      "\u001b[1;31mKeyboardInterrupt\u001b[0m                         Traceback (most recent call last)",
      "\u001b[1;32m<ipython-input-129-0238da9bf546>\u001b[0m in \u001b[0;36m<module>\u001b[1;34m()\u001b[0m\n\u001b[0;32m     10\u001b[0m     \u001b[0ml\u001b[0m \u001b[1;33m=\u001b[0m \u001b[0mLars\u001b[0m\u001b[1;33m(\u001b[0m\u001b[1;33m)\u001b[0m\u001b[1;33m\u001b[0m\u001b[0m\n\u001b[0;32m     11\u001b[0m     \u001b[0msetattr\u001b[0m\u001b[1;33m(\u001b[0m\u001b[0ml\u001b[0m\u001b[1;33m,\u001b[0m\u001b[1;34m'alpha'\u001b[0m\u001b[1;33m,\u001b[0m\u001b[0ma\u001b[0m\u001b[1;33m)\u001b[0m\u001b[1;33m\u001b[0m\u001b[0m\n\u001b[1;32m---> 12\u001b[1;33m     \u001b[0ml\u001b[0m\u001b[1;33m.\u001b[0m\u001b[0mfit\u001b[0m\u001b[1;33m(\u001b[0m\u001b[0mxtrain\u001b[0m\u001b[1;33m,\u001b[0m\u001b[0mytrain\u001b[0m\u001b[1;33m)\u001b[0m\u001b[1;33m\u001b[0m\u001b[0m\n\u001b[0m\u001b[0;32m     13\u001b[0m     \u001b[1;32mprint\u001b[0m \u001b[0ml\u001b[0m\u001b[1;33m.\u001b[0m\u001b[0mscore\u001b[0m\u001b[1;33m(\u001b[0m\u001b[0mxtrain\u001b[0m\u001b[1;33m,\u001b[0m\u001b[0mytrain\u001b[0m\u001b[1;33m)\u001b[0m\u001b[1;33m,\u001b[0m\u001b[0ml\u001b[0m\u001b[1;33m.\u001b[0m\u001b[0mscore\u001b[0m\u001b[1;33m(\u001b[0m\u001b[0mxtest\u001b[0m\u001b[1;33m,\u001b[0m\u001b[0mytest\u001b[0m\u001b[1;33m)\u001b[0m\u001b[1;33m\u001b[0m\u001b[0m\n",
      "\u001b[1;32m/usr/local/lib/python2.7/dist-packages/sklearn/linear_model/least_angle.pyc\u001b[0m in \u001b[0;36mfit\u001b[1;34m(self, X, y, Xy)\u001b[0m\n\u001b[0;32m    615\u001b[0m                 \u001b[1;33m(\u001b[0m\u001b[0mprecompute\u001b[0m \u001b[1;33m==\u001b[0m \u001b[1;34m'auto'\u001b[0m \u001b[1;32mand\u001b[0m \u001b[0mX\u001b[0m\u001b[1;33m.\u001b[0m\u001b[0mshape\u001b[0m\u001b[1;33m[\u001b[0m\u001b[1;36m0\u001b[0m\u001b[1;33m]\u001b[0m \u001b[1;33m>\u001b[0m \u001b[0mX\u001b[0m\u001b[1;33m.\u001b[0m\u001b[0mshape\u001b[0m\u001b[1;33m[\u001b[0m\u001b[1;36m1\u001b[0m\u001b[1;33m]\u001b[0m\u001b[1;33m)\u001b[0m \u001b[1;32mor\u001b[0m\u001b[1;33m\u001b[0m\u001b[0m\n\u001b[0;32m    616\u001b[0m                 (precompute == 'auto' and y.shape[1] > 1)):\n\u001b[1;32m--> 617\u001b[1;33m             \u001b[0mGram\u001b[0m \u001b[1;33m=\u001b[0m \u001b[0mnp\u001b[0m\u001b[1;33m.\u001b[0m\u001b[0mdot\u001b[0m\u001b[1;33m(\u001b[0m\u001b[0mX\u001b[0m\u001b[1;33m.\u001b[0m\u001b[0mT\u001b[0m\u001b[1;33m,\u001b[0m \u001b[0mX\u001b[0m\u001b[1;33m)\u001b[0m\u001b[1;33m\u001b[0m\u001b[0m\n\u001b[0m\u001b[0;32m    618\u001b[0m         \u001b[1;32melse\u001b[0m\u001b[1;33m:\u001b[0m\u001b[1;33m\u001b[0m\u001b[0m\n\u001b[0;32m    619\u001b[0m             \u001b[0mGram\u001b[0m \u001b[1;33m=\u001b[0m \u001b[0mself\u001b[0m\u001b[1;33m.\u001b[0m\u001b[0m_get_gram\u001b[0m\u001b[1;33m(\u001b[0m\u001b[1;33m)\u001b[0m\u001b[1;33m\u001b[0m\u001b[0m\n",
      "\u001b[1;31mKeyboardInterrupt\u001b[0m: "
     ]
    }
   ],
   "source": [
    "a = method.alpha_\n",
    "kf = KFold(len(y), n_folds=k,shuffle=True)\n",
    "retfit = []\n",
    "retunfit = []\n",
    "for train,test in kf:\n",
    "    xtrain = x[train]\n",
    "    ytrain = y[train]\n",
    "    xtest = x[test]\n",
    "    ytest = y[test]\n",
    "    l = Lars(alpha_min=a)\n",
    "    setattr(l,'alpha',a)\n",
    "    l.fit(xtrain,ytrain)\n",
    "    print l.score(xtrain,ytrain),l.score(xtest,ytest)"
   ]
  },
  {
   "cell_type": "code",
   "execution_count": 178,
   "metadata": {
    "collapsed": false
   },
   "outputs": [
    {
     "name": "stdout",
     "output_type": "stream",
     "text": [
      "0.579219715561 0.450032422522 0.765496988814 0.671073603417\n",
      "0.558310796727 0.538533491473 0.752203595129 0.736948502565\n",
      "0.566142657482 0.516377455236 0.757333813116 0.721585041476\n",
      "0.568620925381 0.488285854907 0.758651182755 0.700776612757\n",
      "0.570594012861 0.48570978543 0.760153534316 0.701581401665\n"
     ]
    }
   ],
   "source": [
    "k = 5\n",
    "method = ElasticNetCV(cv=k,n_jobs=-1)\n",
    "method.fit(x,y)\n",
    "a = method.alpha_\n",
    "kf = KFold(len(y), n_folds=k,shuffle=True)\n",
    "retfit = []\n",
    "retunfit = []\n",
    "for train,test in kf:\n",
    "    xtrain = x[train]\n",
    "    ytrain = y[train]\n",
    "    xtest = x[test]\n",
    "    ytest = y[test]\n",
    "    l = ElasticNet(alpha=a)\n",
    "    l.fit(xtrain,ytrain)\n",
    "    p1 = l.predict(xtrain)\n",
    "    p2 = l.predict(xtest)\n",
    "    print l.score(xtrain,ytrain),l.score(xtest,ytest),np.corrcoef(p1,ytrain)[0,1],np.corrcoef(p2,ytest)[0,1]"
   ]
  },
  {
   "cell_type": "code",
   "execution_count": 137,
   "metadata": {
    "collapsed": false
   },
   "outputs": [],
   "source": [
    "elastic = method"
   ]
  },
  {
   "cell_type": "code",
   "execution_count": 139,
   "metadata": {
    "collapsed": false
   },
   "outputs": [
    {
     "data": {
      "text/plain": [
       "331"
      ]
     },
     "execution_count": 139,
     "metadata": {},
     "output_type": "execute_result"
    }
   ],
   "source": [
    "np.count_nonzero(elastic.coef_)"
   ]
  },
  {
   "cell_type": "code",
   "execution_count": 133,
   "metadata": {
    "collapsed": false
   },
   "outputs": [
    {
     "name": "stdout",
     "output_type": "stream",
     "text": [
      "0.68930683941 0.312506604324\n",
      "0.701433837563 0.263044818824\n",
      "0.694590008191 0.286064141321\n",
      "0.694034361753 0.369425946305\n",
      "0.683018600681 0.397600934827\n"
     ]
    }
   ],
   "source": [
    "k = 5\n",
    "method = RidgeCV(cv=k)\n",
    "method.fit(x,y)\n",
    "a = method.alpha_\n",
    "kf = KFold(len(y), n_folds=k,shuffle=True)\n",
    "retfit = []\n",
    "retunfit = []\n",
    "for train,test in kf:\n",
    "    xtrain = x[train]\n",
    "    ytrain = y[train]\n",
    "    xtest = x[test]\n",
    "    ytest = y[test]\n",
    "    l = Ridge(alpha=a)\n",
    "    l.fit(xtrain,ytrain)\n",
    "    print l.score(xtrain,ytrain),l.score(xtest,ytest)"
   ]
  },
  {
   "cell_type": "code",
   "execution_count": 135,
   "metadata": {
    "collapsed": false
   },
   "outputs": [
    {
     "data": {
      "text/plain": [
       "2048"
      ]
     },
     "execution_count": 135,
     "metadata": {},
     "output_type": "execute_result"
    }
   ],
   "source": [
    "np.count_nonzero(method.coef_)"
   ]
  },
  {
   "cell_type": "code",
   "execution_count": 236,
   "metadata": {
    "collapsed": false
   },
   "outputs": [
    {
     "data": {
      "text/plain": [
       "[<matplotlib.lines.Line2D at 0x7f4f09e32ed0>,\n",
       " <matplotlib.lines.Line2D at 0x7f4f09e32150>,\n",
       " <matplotlib.lines.Line2D at 0x7f4f09e32410>,\n",
       " <matplotlib.lines.Line2D at 0x7f4f09e325d0>,\n",
       " <matplotlib.lines.Line2D at 0x7f4f09e32950>]"
      ]
     },
     "execution_count": 236,
     "metadata": {},
     "output_type": "execute_result"
    },
    {
     "data": {
      "image/png": "[encoded data removed]",
      "text/plain": [
       "<matplotlib.figure.Figure at 0x7f4f0836a110>"
      ]
     },
     "metadata": {},
     "output_type": "display_data"
    }
   ],
   "source": [
    "plt.plot(lars.cv_mse_path_)"
   ]
  },
  {
   "cell_type": "code",
   "execution_count": 237,
   "metadata": {
    "collapsed": false
   },
   "outputs": [
    {
     "data": {
      "text/plain": [
       "274"
      ]
     },
     "execution_count": 237,
     "metadata": {},
     "output_type": "execute_result"
    }
   ],
   "source": [
    "np.count_nonzero(lars.coef_)"
   ]
  },
  {
   "cell_type": "code",
   "execution_count": 229,
   "metadata": {
    "collapsed": false
   },
   "outputs": [
    {
     "name": "stdout",
     "output_type": "stream",
     "text": [
      "0.375400633361 38\n",
      "0.299451002592 41\n",
      "0.390510541857 17\n"
     ]
    }
   ],
   "source": [
    "kf = KFold(len(y), n_folds=3,shuffle=True)\n",
    "method = LassoLarsCV(cv=5,n_jobs=-1)\n",
    "for train,test in kf:\n",
    "    xtrain = x[train]\n",
    "    ytrain = y[train]\n",
    "    xtest = x[test]\n",
    "    ytest = y[test]\n",
    "    method.fit(xtrain,ytrain)\n",
    "    print method.score(xtest,ytest),np.count_nonzero(method.coef_)"
   ]
  },
  {
   "cell_type": "code",
   "execution_count": null,
   "metadata": {
    "collapsed": true
   },
   "outputs": [],
   "source": []
  },
  {
   "cell_type": "code",
   "execution_count": null,
   "metadata": {
    "collapsed": true
   },
   "outputs": [],
   "source": []
  },
  {
   "cell_type": "code",
   "execution_count": 26,
   "metadata": {
    "collapsed": true
   },
   "outputs": [],
   "source": [
    "from sklearn.cross_decomposition import PLSRegression"
   ]
  },
  {
   "cell_type": "code",
   "execution_count": 238,
   "metadata": {
    "collapsed": true
   },
   "outputs": [],
   "source": [
    "pls = PLSRegression(2)"
   ]
  },
  {
   "cell_type": "code",
   "execution_count": 239,
   "metadata": {
    "collapsed": false
   },
   "outputs": [
    {
     "data": {
      "text/plain": [
       "PLSRegression(copy=True, max_iter=500, n_components=2, scale=True, tol=1e-06)"
      ]
     },
     "execution_count": 239,
     "metadata": {},
     "output_type": "execute_result"
    }
   ],
   "source": [
    "pls.fit(x,y)"
   ]
  },
  {
   "cell_type": "code",
   "execution_count": 240,
   "metadata": {
    "collapsed": false
   },
   "outputs": [
    {
     "data": {
      "text/plain": [
       "0.34139537428948619"
      ]
     },
     "execution_count": 240,
     "metadata": {},
     "output_type": "execute_result"
    }
   ],
   "source": [
    "pls.score(x,y)"
   ]
  },
  {
   "cell_type": "code",
   "execution_count": 159,
   "metadata": {
    "collapsed": false
   },
   "outputs": [],
   "source": [
    "kf = KFold(len(y), n_folds=5,shuffle=True)\n",
    "retfit = []\n",
    "retunfit = []\n",
    "\n",
    "for train,test in kf:\n",
    "    xtrain = x[train]\n",
    "    ytrain = y[train]\n",
    "    xtest = x[test]\n",
    "    ytest = y[test]\n",
    "    fit = []\n",
    "    unfit = []\n",
    "    for i in xrange(1,51):\n",
    "        pls = PLSRegression(i)\n",
    "        pls.fit(xtrain,ytrain)\n",
    "        p1 = pls.predict(xtrain).squeeze()\n",
    "        p2 = pls.predict(xtest).squeeze()\n",
    "        fit.append(np.corrcoef(p1,ytrain)[0,1])\n",
    "        unfit.append(np.corrcoef(p2,ytest)[0,1])\n",
    "    retfit.append(fit)\n",
    "    retunfit.append(unfit)"
   ]
  },
  {
   "cell_type": "code",
   "execution_count": 165,
   "metadata": {
    "collapsed": false
   },
   "outputs": [
    {
     "data": {
      "text/plain": [
       "array([ 11.71689708,  -0.84355659,   9.63282471, ...,  12.24492684,\n",
       "        12.24492684,  12.24492684])"
      ]
     },
     "execution_count": 165,
     "metadata": {},
     "output_type": "execute_result"
    }
   ],
   "source": [
    "p1.squeeze()"
   ]
  },
  {
   "cell_type": "code",
   "execution_count": 166,
   "metadata": {
    "collapsed": false
   },
   "outputs": [
    {
     "name": "stdout",
     "output_type": "stream",
     "text": [
      "11\n"
     ]
    },
    {
     "data": {
      "image/png": "[encoded data removed]",
      "text/plain": [
       "<matplotlib.figure.Figure at 0x7f31141e5d10>"
      ]
     },
     "metadata": {},
     "output_type": "display_data"
    }
   ],
   "source": [
    "for fit in retfit:\n",
    "    plt.plot(fit,'k-')\n",
    "\n",
    "means = np.mean(np.array(retunfit),axis=0)\n",
    "std = np.std(np.array(retunfit),axis=0)\n",
    "plt.errorbar(range(0,len(retunfit[0])),means,yerr=std,linewidth=3)\n",
    "\n",
    "print np.argmax(means)"
   ]
  },
  {
   "cell_type": "code",
   "execution_count": 168,
   "metadata": {
    "collapsed": false
   },
   "outputs": [
    {
     "data": {
      "text/plain": [
       "2048"
      ]
     },
     "execution_count": 168,
     "metadata": {},
     "output_type": "execute_result"
    }
   ],
   "source": [
    "p = pl"
   ]
  },
  {
   "cell_type": "code",
   "execution_count": 169,
   "metadata": {
    "collapsed": false
   },
   "outputs": [
    {
     "data": {
      "text/plain": [
       "[<matplotlib.lines.Line2D at 0x7f3110952a50>]"
      ]
     },
     "execution_count": 169,
     "metadata": {},
     "output_type": "execute_result"
    },
    {
     "data": {
      "image/png": "[encoded data removed]",
      "text/plain": [
       "<matplotlib.figure.Figure at 0x7f31108a6f10>"
      ]
     },
     "metadata": {},
     "output_type": "display_data"
    }
   ],
   "source": [
    "pls = PLSRegression(11)\n",
    "pls.fit(x,y)\n",
    "p = pls.predict(x)\n",
    "plt.plot(y,p,'o')"
   ]
  },
  {
   "cell_type": "code",
   "execution_count": 177,
   "metadata": {
    "collapsed": false
   },
   "outputs": [
    {
     "data": {
      "text/plain": [
       "[<matplotlib.lines.Line2D at 0x7f31174268d0>]"
      ]
     },
     "execution_count": 177,
     "metadata": {},
     "output_type": "execute_result"
    },
    {
     "data": {
      "image/png": "[encoded data removed]",
      "text/plain": [
       "<matplotlib.figure.Figure at 0x7f3117497550>"
      ]
     },
     "metadata": {},
     "output_type": "display_data"
    }
   ],
   "source": [
    "y2 = np.dot((x-pls.x_mean_)/pls.x_std_,pls.coef_)\n",
    "plt.plot(p,y2,'o')"
   ]
  },
  {
   "cell_type": "code",
   "execution_count": 52,
   "metadata": {
    "collapsed": false
   },
   "outputs": [
    {
     "data": {
      "text/plain": [
       "-0.21475481424097409"
      ]
     },
     "execution_count": 52,
     "metadata": {},
     "output_type": "execute_result"
    }
   ],
   "source": [
    "pls.score(x,y)"
   ]
  },
  {
   "cell_type": "code",
   "execution_count": 60,
   "metadata": {
    "collapsed": false
   },
   "outputs": [
    {
     "data": {
      "text/plain": [
       "0.31481898857263901"
      ]
     },
     "execution_count": 60,
     "metadata": {},
     "output_type": "execute_result"
    }
   ],
   "source": [
    "r2_score(p,y)"
   ]
  },
  {
   "cell_type": "code",
   "execution_count": 61,
   "metadata": {
    "collapsed": false
   },
   "outputs": [
    {
     "name": "stdout",
     "output_type": "stream",
     "text": [
      "Help on function r2_score in module sklearn.metrics.regression:\n",
      "\n",
      "r2_score(y_true, y_pred, sample_weight=None)\n",
      "    R^2 (coefficient of determination) regression score function.\n",
      "    \n",
      "    Best possible score is 1.0, lower values are worse.\n",
      "    \n",
      "    Parameters\n",
      "    ----------\n",
      "    y_true : array-like of shape = [n_samples] or [n_samples, n_outputs]\n",
      "        Ground truth (correct) target values.\n",
      "    \n",
      "    y_pred : array-like of shape = [n_samples] or [n_samples, n_outputs]\n",
      "        Estimated target values.\n",
      "    \n",
      "    sample_weight : array-like of shape = [n_samples], optional\n",
      "        Sample weights.\n",
      "    \n",
      "    Returns\n",
      "    -------\n",
      "    z : float\n",
      "        The R^2 score.\n",
      "    \n",
      "    Notes\n",
      "    -----\n",
      "    This is not a symmetric function.\n",
      "    \n",
      "    Unlike most other scores, R^2 score may be negative (it need not actually\n",
      "    be the square of a quantity R).\n",
      "    \n",
      "    References\n",
      "    ----------\n",
      "    .. [1] `Wikipedia entry on the Coefficient of determination\n",
      "            <http://en.wikipedia.org/wiki/Coefficient_of_determination>`_\n",
      "    \n",
      "    Examples\n",
      "    --------\n",
      "    >>> from sklearn.metrics import r2_score\n",
      "    >>> y_true = [3, -0.5, 2, 7]\n",
      "    >>> y_pred = [2.5, 0.0, 2, 8]\n",
      "    >>> r2_score(y_true, y_pred)  # doctest: +ELLIPSIS\n",
      "    0.948...\n",
      "    >>> y_true = [[0.5, 1], [-1, 1], [7, -6]]\n",
      "    >>> y_pred = [[0, 2], [-1, 2], [8, -5]]\n",
      "    >>> r2_score(y_true, y_pred)  # doctest: +ELLIPSIS\n",
      "    0.938...\n",
      "\n"
     ]
    }
   ],
   "source": [
    "help(r2_score)"
   ]
  },
  {
   "cell_type": "code",
   "execution_count": 179,
   "metadata": {
    "collapsed": false
   },
   "outputs": [
    {
     "data": {
      "text/plain": [
       "2.0"
      ]
     },
     "execution_count": 179,
     "metadata": {},
     "output_type": "execute_result"
    }
   ],
   "source": [
    "np.mean([1,2,3])"
   ]
  },
  {
   "cell_type": "code",
   "execution_count": 245,
   "metadata": {
    "collapsed": false
   },
   "outputs": [],
   "source": [
    "ridge = RidgeCV(cv=3)"
   ]
  },
  {
   "cell_type": "code",
   "execution_count": null,
   "metadata": {
    "collapsed": false
   },
   "outputs": [],
   "source": [
    "ridge.fit(x,y)"
   ]
  },
  {
   "cell_type": "code",
   "execution_count": 9,
   "metadata": {
    "collapsed": true
   },
   "outputs": [],
   "source": [
    "lsq = LinearRegression()"
   ]
  },
  {
   "cell_type": "code",
   "execution_count": 10,
   "metadata": {
    "collapsed": false
   },
   "outputs": [
    {
     "data": {
      "text/plain": [
       "LinearRegression(copy_X=True, fit_intercept=True, n_jobs=1, normalize=False)"
      ]
     },
     "execution_count": 10,
     "metadata": {},
     "output_type": "execute_result"
    }
   ],
   "source": [
    "lsq.fit(x,y)"
   ]
  },
  {
   "cell_type": "code",
   "execution_count": 11,
   "metadata": {
    "collapsed": false
   },
   "outputs": [
    {
     "data": {
      "text/plain": [
       "0.68654272403977235"
      ]
     },
     "execution_count": 11,
     "metadata": {},
     "output_type": "execute_result"
    }
   ],
   "source": [
    "lsq.score(x,y)"
   ]
  },
  {
   "cell_type": "code",
   "execution_count": 12,
   "metadata": {
    "collapsed": false
   },
   "outputs": [
    {
     "data": {
      "text/plain": [
       "[<matplotlib.lines.Line2D at 0x7f311a80e8d0>]"
      ]
     },
     "execution_count": 12,
     "metadata": {},
     "output_type": "execute_result"
    },
    {
     "data": {
      "image/png": "[encoded data removed]",
      "text/plain": [
       "<matplotlib.figure.Figure at 0x7f311a8f0190>"
      ]
     },
     "metadata": {},
     "output_type": "display_data"
    }
   ],
   "source": [
    "p = lsq.predict(x)\n",
    "plt.plot(y,p,'o')"
   ]
  },
  {
   "cell_type": "code",
   "execution_count": 15,
   "metadata": {
    "collapsed": false
   },
   "outputs": [
    {
     "name": "stdout",
     "output_type": "stream",
     "text": [
      "0.691532034431 -6.58953111628e+25\n",
      "0.524301230043 -5.48628015664e+25\n",
      "0.692814459735 -3.3967879211e+25\n"
     ]
    }
   ],
   "source": [
    "kf = KFold(len(y), n_folds=3,shuffle=True)\n",
    "\n",
    "for train,test in kf:\n",
    "    xtrain = x[train]\n",
    "    ytrain = y[train]\n",
    "    xtest = x[test]\n",
    "    ytest = y[test]\n",
    "    lsq = LinearRegression()\n",
    "    lsq.fit(xtrain,ytrain)\n",
    "    print lsq.score(xtrain,ytrain),lsq.score(xtest,ytest)"
   ]
  },
  {
   "cell_type": "code",
   "execution_count": 20,
   "metadata": {
    "collapsed": false
   },
   "outputs": [
    {
     "data": {
      "text/plain": [
       "[<matplotlib.lines.Line2D at 0x7f311a46c450>]"
      ]
     },
     "execution_count": 20,
     "metadata": {},
     "output_type": "execute_result"
    },
    {
     "data": {
      "image/png": "[encoded data removed]",
      "text/plain": [
       "<matplotlib.figure.Figure at 0x7f311a4e3e90>"
      ]
     },
     "metadata": {},
     "output_type": "display_data"
    }
   ],
   "source": [
    "p = lsq.predict(xtest)\n",
    "plt.plot(ytest,p,'o')"
   ]
  },
  {
   "cell_type": "code",
   "execution_count": null,
   "metadata": {
    "collapsed": false
   },
   "outputs": [],
   "source": []
  },
  {
   "cell_type": "code",
   "execution_count": null,
   "metadata": {
    "collapsed": true
   },
   "outputs": [],
   "source": []
  }
 ],
 "metadata": {
  "kernelspec": {
   "display_name": "Python 2",
   "language": "python",
   "name": "python2"
  },
  "language_info": {
   "codemirror_mode": {
    "name": "ipython",
    "version": 2
   },
   "file_extension": ".py",
   "mimetype": "text/x-python",
   "name": "python",
   "nbconvert_exporter": "python",
   "pygments_lexer": "ipython2",
   "version": "2.7.6"
  }
 },
 "nbformat": 4,
 "nbformat_minor": 0
}
